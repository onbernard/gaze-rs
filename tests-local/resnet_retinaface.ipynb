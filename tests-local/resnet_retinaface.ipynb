{
 "cells": [
  {
   "cell_type": "code",
   "execution_count": null,
   "id": "91e42fc5",
   "metadata": {},
   "outputs": [],
   "source": [
    "import torch\n",
    "import torch.nn as nn\n",
    "import torch.nn.functional as F\n",
    "from torchvision.ops import boxes as box_ops\n",
    "from torchvision.models.resnet import resnet50\n",
    "from torch.utils.data import Dataset, DataLoader\n",
    "import math"
   ]
  },
  {
   "cell_type": "code",
   "execution_count": null,
   "id": "54958cbc",
   "metadata": {},
   "outputs": [],
   "source": [
    "class RetinaFace(nn.Module):\n",
    "    def __init__(self, pretrained=True):\n",
    "        super().__init__()\n",
    "        backbone = resnet50(pretrained=pretrained)\n",
    "        self.body = nn.Sequential(*list(backbone.children())[:-2])  # up to conv5_x\n",
    "\n",
    "        self.ssh = nn.Conv2d(2048, 512, kernel_size=1)\n",
    "        self.cls_head = nn.Conv2d(512, 6 * 2, kernel_size=1)  # 6 anchors * 2 classes\n",
    "        self.bbox_head = nn.Conv2d(512, 6 * 4, kernel_size=1) # 6 anchors * 4 bbox coords\n",
    "        self.lmk_head = nn.Conv2d(512, 6 * 10, kernel_size=1) # 6 anchors * 5 landmarks\n",
    "\n",
    "    def forward(self, x):\n",
    "        feat = self.body(x)\n",
    "        feat = F.relu(self.ssh(feat))\n",
    "\n",
    "        cls = self.cls_head(feat)\n",
    "        bbox = self.bbox_head(feat)\n",
    "        lmk = self.lmk_head(feat)\n",
    "\n",
    "        return cls, bbox, lmk, feat.shape[2]"
   ]
  },
  {
   "cell_type": "code",
   "execution_count": null,
   "id": "268251d6",
   "metadata": {},
   "outputs": [],
   "source": [
    "class RetinaFaceLoss(nn.Module):\n",
    "    def __init__(self):\n",
    "        super().__init__()\n",
    "\n",
    "    def forward(self, pred_cls, pred_bbox, pred_lmk, anchors, targets):\n",
    "        # Very basic example: all anchors match to target[0]\n",
    "        matched_gt = targets['bbox'][0].unsqueeze(0).expand_as(anchors)\n",
    "        cls_target = targets['cls'][0].expand(pred_cls.shape[0])\n",
    "        lmk_target = targets['lmk'][0].expand(pred_lmk.shape[0], 10)\n",
    "\n",
    "        cls_loss = F.cross_entropy(pred_cls, cls_target)\n",
    "        bbox_loss = F.smooth_l1_loss(pred_bbox, matched_gt)\n",
    "        lmk_loss = F.smooth_l1_loss(pred_lmk, lmk_target)\n",
    "\n",
    "        return cls_loss + bbox_loss + lmk_loss"
   ]
  },
  {
   "cell_type": "code",
   "execution_count": 1,
   "id": "dd0d5332",
   "metadata": {},
   "outputs": [],
   "source": [
    "from zipfile import ZipFile"
   ]
  },
  {
   "cell_type": "code",
   "execution_count": 2,
   "id": "5bee8e3c",
   "metadata": {},
   "outputs": [
    {
     "name": "stdout",
     "output_type": "stream",
     "text": [
      "<ZipInfo filename='WIDER_train/' external_attr=0x10>\n"
     ]
    }
   ],
   "source": [
    "with ZipFile(\"../WIDER_train.zip\") as zip:\n",
    "    for info in zip.infolist():\n",
    "        print(info)\n",
    "        break"
   ]
  }
 ],
 "metadata": {
  "kernelspec": {
   "display_name": ".venv",
   "language": "python",
   "name": "python3"
  },
  "language_info": {
   "codemirror_mode": {
    "name": "ipython",
    "version": 3
   },
   "file_extension": ".py",
   "mimetype": "text/x-python",
   "name": "python",
   "nbconvert_exporter": "python",
   "pygments_lexer": "ipython3",
   "version": "3.12.3"
  }
 },
 "nbformat": 4,
 "nbformat_minor": 5
}
